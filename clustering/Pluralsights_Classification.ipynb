{
 "cells": [
  {
   "cell_type": "code",
   "execution_count": 1,
   "id": "634d7a3a",
   "metadata": {},
   "outputs": [],
   "source": [
    "import pandas as pd\n",
    "import matplotlib.pyplot as plt\n",
    "\n",
    "import seaborn as sns\n",
    "\n",
    "from sklearn import preprocessing\n",
    "from sklearn.model_selection import train_test_split\n",
    "from sklearn.linear_model import LogisticRegression\n",
    "from sklearn.metrics import accuracy_score, precision_score, recall_score\n",
    "\n",
    "from sklearn.tree import DecisionTreeClassifier\n",
    "# Health data for women\n"
   ]
  },
  {
   "cell_type": "code",
   "execution_count": 2,
   "id": "1a7533ef",
   "metadata": {},
   "outputs": [
    {
     "name": "stdout",
     "output_type": "stream",
     "text": [
      "-----------------------------\n",
      "    Pregnancies  Glucose  BloodPressure  SkinThickness  Insulin   BMI  \\\n",
      "3             1       89             66             23       94  28.1   \n",
      "4             0      137             40             35      168  43.1   \n",
      "6             3       78             50             32       88  31.0   \n",
      "8             2      197             70             45      543  30.5   \n",
      "13            1      189             60             23      846  30.1   \n",
      "\n",
      "    DiabetesPedigreeFunction  Age  Outcome  \n",
      "3                      0.167   21        0  \n",
      "4                      2.288   33        1  \n",
      "6                      0.248   26        1  \n",
      "8                      0.158   53        1  \n",
      "13                     0.398   59        1  \n",
      "-----------------------------\n",
      "       Pregnancies     Glucose  BloodPressure  SkinThickness     Insulin  \\\n",
      "count   392.000000  392.000000     392.000000     392.000000  392.000000   \n",
      "mean      3.301020  122.627551      70.663265      29.145408  156.056122   \n",
      "std       3.211424   30.860781      12.496092      10.516424  118.841690   \n",
      "min       0.000000   56.000000      24.000000       7.000000   14.000000   \n",
      "25%       1.000000   99.000000      62.000000      21.000000   76.750000   \n",
      "50%       2.000000  119.000000      70.000000      29.000000  125.500000   \n",
      "75%       5.000000  143.000000      78.000000      37.000000  190.000000   \n",
      "max      17.000000  198.000000     110.000000      63.000000  846.000000   \n",
      "\n",
      "              BMI  DiabetesPedigreeFunction         Age     Outcome  \n",
      "count  392.000000                392.000000  392.000000  392.000000  \n",
      "mean    33.086224                  0.523046   30.864796    0.331633  \n",
      "std      7.027659                  0.345488   10.200777    0.471401  \n",
      "min     18.200000                  0.085000   21.000000    0.000000  \n",
      "25%     28.400000                  0.269750   23.000000    0.000000  \n",
      "50%     33.200000                  0.449500   27.000000    0.000000  \n",
      "75%     37.100000                  0.687000   36.000000    1.000000  \n",
      "max     67.100000                  2.420000   81.000000    1.000000  \n",
      "-----------------------------\n",
      "<class 'pandas.core.frame.DataFrame'>\n",
      "Int64Index: 392 entries, 3 to 765\n",
      "Data columns (total 9 columns):\n",
      " #   Column                    Non-Null Count  Dtype  \n",
      "---  ------                    --------------  -----  \n",
      " 0   Pregnancies               392 non-null    int64  \n",
      " 1   Glucose                   392 non-null    int64  \n",
      " 2   BloodPressure             392 non-null    int64  \n",
      " 3   SkinThickness             392 non-null    int64  \n",
      " 4   Insulin                   392 non-null    int64  \n",
      " 5   BMI                       392 non-null    float64\n",
      " 6   DiabetesPedigreeFunction  392 non-null    float64\n",
      " 7   Age                       392 non-null    int64  \n",
      " 8   Outcome                   392 non-null    int64  \n",
      "dtypes: float64(2), int64(7)\n",
      "memory usage: 30.6 KB\n",
      "None\n",
      "-----------------------------\n"
     ]
    }
   ],
   "source": [
    "# Load the Diabetes CSV in pandas, remove all the rows that are having 0 readings, means metric is not recorded and hence\n",
    "# not useful. Instead of deleting you can set values like Mode or median based on logic you want to put.\n",
    "diabeties = pd.read_csv(\"diabetes.csv\")\n",
    "diabeties = diabeties[diabeties.Insulin != 0]\n",
    "diabeties = diabeties[diabeties.BloodPressure != 0]\n",
    "diabeties = diabeties[diabeties.Glucose != 0]\n",
    "diabeties = diabeties[diabeties.SkinThickness != 0]\n",
    "diabeties = diabeties[diabeties.BMI != 0]\n",
    "print(\"-----------------------------\")\n",
    "print(diabeties.head())\n",
    "print('-----------------------------')\n",
    "print(diabeties.describe())\n",
    "print('-----------------------------')\n",
    "print(diabeties.info())\n",
    "print('-----------------------------')"
   ]
  },
  {
   "cell_type": "code",
   "execution_count": 3,
   "id": "c3ad6d8a",
   "metadata": {},
   "outputs": [],
   "source": [
    "# With above output, it shows that we have data in all cells\n",
    "# Give focus on describe out put, you will see that mean, std, min, max have very different values in different columns.\n",
    "# This means, their scales are different. Hence we need to process the data and need to put them on same scale.\n",
    "\n",
    "# If you have some feature with non numeric values you need to encode them to numeric values using LabelEncoder\n",
    "# In our case there is no such column. Remember machine learning code can't work on strings, you need to encode \n",
    "# them to some numeric format. \n",
    "\n",
    "# Outcome shows the result of suger test, 0 means test is negative while 1 means test is positve for suger\n",
    "\n",
    "#Lets analysis some data using scatter plot\n"
   ]
  },
  {
   "cell_type": "code",
   "execution_count": 4,
   "id": "1a14a7b9",
   "metadata": {},
   "outputs": [
    {
     "data": {
      "text/plain": [
       "Text(0, 0.5, 'Suger Test Result')"
      ]
     },
     "execution_count": 4,
     "metadata": {},
     "output_type": "execute_result"
    },
    {
     "data": {
      "image/png": "[encoded data removed]",
      "text/plain": [
       "<Figure size 576x576 with 1 Axes>"
      ]
     },
     "metadata": {
      "needs_background": "light"
     },
     "output_type": "display_data"
    }
   ],
   "source": [
    "plt.figure(figsize=(8,8))\n",
    "plt.scatter(diabeties['Glucose'], diabeties['Outcome'])\n",
    "plt.xlabel(\"Glucose Value\")\n",
    "plt.ylabel(\"Suger Test Result\")"
   ]
  },
  {
   "cell_type": "code",
   "execution_count": 5,
   "id": "10a04ff8",
   "metadata": {},
   "outputs": [
    {
     "data": {
      "text/plain": [
       "Text(0, 0.5, 'Insulin')"
      ]
     },
     "execution_count": 5,
     "metadata": {},
     "output_type": "execute_result"
    },
    {
     "data": {
      "image/png": "[encoded data removed]",
      "text/plain": [
       "<Figure size 576x576 with 1 Axes>"
      ]
     },
     "metadata": {
      "needs_background": "light"
     },
     "output_type": "display_data"
    }
   ],
   "source": [
    "plt.figure(figsize=(8,8))\n",
    "plt.scatter(diabeties['Age'], diabeties['Insulin'])\n",
    "plt.xlabel(\"Age\")\n",
    "plt.ylabel(\"Insulin\")"
   ]
  },
  {
   "cell_type": "code",
   "execution_count": 6,
   "id": "2d885032",
   "metadata": {},
   "outputs": [
    {
     "name": "stdout",
     "output_type": "stream",
     "text": [
      "                          Pregnancies   Glucose  BloodPressure  SkinThickness  \\\n",
      "Pregnancies                  1.000000  0.198291       0.213355       0.093209   \n",
      "Glucose                      0.198291  1.000000       0.210027       0.198856   \n",
      "BloodPressure                0.213355  0.210027       1.000000       0.232571   \n",
      "SkinThickness                0.093209  0.198856       0.232571       1.000000   \n",
      "Insulin                      0.078984  0.581223       0.098512       0.182199   \n",
      "BMI                         -0.025347  0.209516       0.304403       0.664355   \n",
      "DiabetesPedigreeFunction     0.007562  0.140180      -0.015971       0.160499   \n",
      "Age                          0.679608  0.343641       0.300039       0.167761   \n",
      "Outcome                      0.256566  0.515703       0.192673       0.255936   \n",
      "\n",
      "                           Insulin       BMI  DiabetesPedigreeFunction  \\\n",
      "Pregnancies               0.078984 -0.025347                  0.007562   \n",
      "Glucose                   0.581223  0.209516                  0.140180   \n",
      "BloodPressure             0.098512  0.304403                 -0.015971   \n",
      "SkinThickness             0.182199  0.664355                  0.160499   \n",
      "Insulin                   1.000000  0.226397                  0.135906   \n",
      "BMI                       0.226397  1.000000                  0.158771   \n",
      "DiabetesPedigreeFunction  0.135906  0.158771                  1.000000   \n",
      "Age                       0.217082  0.069814                  0.085029   \n",
      "Outcome                   0.301429  0.270118                  0.209330   \n",
      "\n",
      "                               Age   Outcome  \n",
      "Pregnancies               0.679608  0.256566  \n",
      "Glucose                   0.343641  0.515703  \n",
      "BloodPressure             0.300039  0.192673  \n",
      "SkinThickness             0.167761  0.255936  \n",
      "Insulin                   0.217082  0.301429  \n",
      "BMI                       0.069814  0.270118  \n",
      "DiabetesPedigreeFunction  0.085029  0.209330  \n",
      "Age                       1.000000  0.350804  \n",
      "Outcome                   0.350804  1.000000  \n"
     ]
    },
    {
     "data": {
      "text/plain": [
       "<AxesSubplot:>"
      ]
     },
     "execution_count": 6,
     "metadata": {},
     "output_type": "execute_result"
    },
    {
     "data": {
      "image/png": "[encoded data removed]",
      "text/plain": [
       "<Figure size 432x288 with 2 Axes>"
      ]
     },
     "metadata": {
      "needs_background": "light"
     },
     "output_type": "display_data"
    }
   ],
   "source": [
    "print(diabeties.corr())\n",
    "sns.heatmap(diabeties.corr(), cmap=\"Blues\")"
   ]
  },
  {
   "cell_type": "code",
   "execution_count": 7,
   "id": "b5147dab",
   "metadata": {},
   "outputs": [],
   "source": [
    "#Lets prepare the data for training and testing purpose\n",
    "X_orig = diabeties.drop(columns=['Outcome'], axis=1)\n",
    "y = diabeties.Outcome"
   ]
  },
  {
   "cell_type": "code",
   "execution_count": 8,
   "id": "540e9ac2",
   "metadata": {},
   "outputs": [
    {
     "name": "stdout",
     "output_type": "stream",
     "text": [
      "Shape before standard scaling (392, 8)\n",
      "Shape after standard scaling (392, 8)\n"
     ]
    }
   ],
   "source": [
    "# As the std, mean, min, max are very different, hence its good to scale the data on same scale\n",
    "print(\"Shape before standard scaling {}\".format(X_orig.shape))\n",
    "std_scaler = preprocessing.StandardScaler()\n",
    "X = std_scaler.fit_transform(X_orig)\n",
    "print(\"Shape after standard scaling {}\".format(X.shape))\n",
    "\n",
    "# Create dataframe from X so that we can see whether data is called now or not\n",
    "diabeties_scaled = pd.DataFrame(X, columns=X_orig.columns)"
   ]
  },
  {
   "cell_type": "code",
   "execution_count": 9,
   "id": "0e3a3911",
   "metadata": {},
   "outputs": [
    {
     "data": {
      "text/html": [
       "<div>\n",
       "<style scoped>\n",
       "    .dataframe tbody tr th:only-of-type {\n",
       "        vertical-align: middle;\n",
       "    }\n",
       "\n",
       "    .dataframe tbody tr th {\n",
       "        vertical-align: top;\n",
       "    }\n",
       "\n",
       "    .dataframe thead th {\n",
       "        text-align: right;\n",
       "    }\n",
       "</style>\n",
       "<table border=\"1\" class=\"dataframe\">\n",
       "  <thead>\n",
       "    <tr style=\"text-align: right;\">\n",
       "      <th></th>\n",
       "      <th>Pregnancies</th>\n",
       "      <th>Glucose</th>\n",
       "      <th>BloodPressure</th>\n",
       "      <th>SkinThickness</th>\n",
       "      <th>Insulin</th>\n",
       "      <th>BMI</th>\n",
       "      <th>DiabetesPedigreeFunction</th>\n",
       "      <th>Age</th>\n",
       "    </tr>\n",
       "  </thead>\n",
       "  <tbody>\n",
       "    <tr>\n",
       "      <th>count</th>\n",
       "      <td>3.920000e+02</td>\n",
       "      <td>3.920000e+02</td>\n",
       "      <td>3.920000e+02</td>\n",
       "      <td>3.920000e+02</td>\n",
       "      <td>3.920000e+02</td>\n",
       "      <td>3.920000e+02</td>\n",
       "      <td>3.920000e+02</td>\n",
       "      <td>3.920000e+02</td>\n",
       "    </tr>\n",
       "    <tr>\n",
       "      <th>mean</th>\n",
       "      <td>-4.021726e-17</td>\n",
       "      <td>3.129583e-17</td>\n",
       "      <td>-4.641624e-16</td>\n",
       "      <td>1.042250e-16</td>\n",
       "      <td>6.485742e-17</td>\n",
       "      <td>1.543550e-16</td>\n",
       "      <td>1.897575e-17</td>\n",
       "      <td>1.028089e-16</td>\n",
       "    </tr>\n",
       "    <tr>\n",
       "      <th>std</th>\n",
       "      <td>1.001278e+00</td>\n",
       "      <td>1.001278e+00</td>\n",
       "      <td>1.001278e+00</td>\n",
       "      <td>1.001278e+00</td>\n",
       "      <td>1.001278e+00</td>\n",
       "      <td>1.001278e+00</td>\n",
       "      <td>1.001278e+00</td>\n",
       "      <td>1.001278e+00</td>\n",
       "    </tr>\n",
       "    <tr>\n",
       "      <th>min</th>\n",
       "      <td>-1.029213e+00</td>\n",
       "      <td>-2.161731e+00</td>\n",
       "      <td>-3.739001e+00</td>\n",
       "      <td>-2.108484e+00</td>\n",
       "      <td>-1.196867e+00</td>\n",
       "      <td>-2.120941e+00</td>\n",
       "      <td>-1.269525e+00</td>\n",
       "      <td>-9.682991e-01</td>\n",
       "    </tr>\n",
       "    <tr>\n",
       "      <th>25%</th>\n",
       "      <td>-7.174265e-01</td>\n",
       "      <td>-7.665958e-01</td>\n",
       "      <td>-6.941640e-01</td>\n",
       "      <td>-7.755315e-01</td>\n",
       "      <td>-6.681786e-01</td>\n",
       "      <td>-6.676780e-01</td>\n",
       "      <td>-7.340909e-01</td>\n",
       "      <td>-7.719850e-01</td>\n",
       "    </tr>\n",
       "    <tr>\n",
       "      <th>50%</th>\n",
       "      <td>-4.056403e-01</td>\n",
       "      <td>-1.176959e-01</td>\n",
       "      <td>-5.314565e-02</td>\n",
       "      <td>-1.384444e-02</td>\n",
       "      <td>-2.574448e-01</td>\n",
       "      <td>1.621036e-02</td>\n",
       "      <td>-2.131475e-01</td>\n",
       "      <td>-3.793569e-01</td>\n",
       "    </tr>\n",
       "    <tr>\n",
       "      <th>75%</th>\n",
       "      <td>5.297185e-01</td>\n",
       "      <td>6.609841e-01</td>\n",
       "      <td>5.878727e-01</td>\n",
       "      <td>7.478426e-01</td>\n",
       "      <td>2.859877e-01</td>\n",
       "      <td>5.718696e-01</td>\n",
       "      <td>4.751644e-01</td>\n",
       "      <td>5.040564e-01</td>\n",
       "    </tr>\n",
       "    <tr>\n",
       "      <th>max</th>\n",
       "      <td>4.271153e+00</td>\n",
       "      <td>2.445459e+00</td>\n",
       "      <td>3.151946e+00</td>\n",
       "      <td>3.223325e+00</td>\n",
       "      <td>5.812990e+00</td>\n",
       "      <td>4.846172e+00</td>\n",
       "      <td>5.497667e+00</td>\n",
       "      <td>4.921123e+00</td>\n",
       "    </tr>\n",
       "  </tbody>\n",
       "</table>\n",
       "</div>"
      ],
      "text/plain": [
       "        Pregnancies       Glucose  BloodPressure  SkinThickness       Insulin  \\\n",
       "count  3.920000e+02  3.920000e+02   3.920000e+02   3.920000e+02  3.920000e+02   \n",
       "mean  -4.021726e-17  3.129583e-17  -4.641624e-16   1.042250e-16  6.485742e-17   \n",
       "std    1.001278e+00  1.001278e+00   1.001278e+00   1.001278e+00  1.001278e+00   \n",
       "min   -1.029213e+00 -2.161731e+00  -3.739001e+00  -2.108484e+00 -1.196867e+00   \n",
       "25%   -7.174265e-01 -7.665958e-01  -6.941640e-01  -7.755315e-01 -6.681786e-01   \n",
       "50%   -4.056403e-01 -1.176959e-01  -5.314565e-02  -1.384444e-02 -2.574448e-01   \n",
       "75%    5.297185e-01  6.609841e-01   5.878727e-01   7.478426e-01  2.859877e-01   \n",
       "max    4.271153e+00  2.445459e+00   3.151946e+00   3.223325e+00  5.812990e+00   \n",
       "\n",
       "                BMI  DiabetesPedigreeFunction           Age  \n",
       "count  3.920000e+02              3.920000e+02  3.920000e+02  \n",
       "mean   1.543550e-16              1.897575e-17  1.028089e-16  \n",
       "std    1.001278e+00              1.001278e+00  1.001278e+00  \n",
       "min   -2.120941e+00             -1.269525e+00 -9.682991e-01  \n",
       "25%   -6.676780e-01             -7.340909e-01 -7.719850e-01  \n",
       "50%    1.621036e-02             -2.131475e-01 -3.793569e-01  \n",
       "75%    5.718696e-01              4.751644e-01  5.040564e-01  \n",
       "max    4.846172e+00              5.497667e+00  4.921123e+00  "
      ]
     },
     "execution_count": 9,
     "metadata": {},
     "output_type": "execute_result"
    }
   ],
   "source": [
    "diabeties_scaled.describe()\n",
    "# You can see that std, mean all are very close to zero, and std is close to 1"
   ]
  },
  {
   "cell_type": "code",
   "execution_count": 22,
   "id": "6c7bca0c",
   "metadata": {},
   "outputs": [],
   "source": [
    "X_train, X_test, y_train, y_test = train_test_split(diabeties_scaled, y, test_size=0.3, random_state=0)"
   ]
  },
  {
   "cell_type": "code",
   "execution_count": 24,
   "id": "ead96bb2",
   "metadata": {},
   "outputs": [
    {
     "data": {
      "text/plain": [
       "LogisticRegression(l1_ratio=0.5, penalty='elasticnet', solver='saga')"
      ]
     },
     "execution_count": 24,
     "metadata": {},
     "output_type": "execute_result"
    }
   ],
   "source": [
    "#Logistic Regression supports only solvers in ['liblinear', 'newton-cg', 'lbfgs', 'sag', 'saga']\n",
    "#Logistic Regression supports only penalties in ['l1', 'l2', 'elasticnet', 'none']\n",
    "log_r = LogisticRegression(penalty='l2', C=1.0, solver='liblinear')\n",
    "log_r.fit(X_train, y_train)\n",
    "# TODO: Check hyper parameters solver and penalty combination and understand when to use what."
   ]
  },
  {
   "cell_type": "code",
   "execution_count": 25,
   "id": "ebc66e67",
   "metadata": {},
   "outputs": [],
   "source": [
    "y_pred = log_r.predict(X_test)"
   ]
  },
  {
   "cell_type": "code",
   "execution_count": 26,
   "id": "3f8ea029",
   "metadata": {},
   "outputs": [
    {
     "name": "stdout",
     "output_type": "stream",
     "text": [
      "Accuracy of model 0.7796610169491526\n",
      "Precision of model 0.7666666666666667\n",
      "Recall of model 0.5476190476190477\n"
     ]
    }
   ],
   "source": [
    "# How many of the model's classification are actually correct True Positive + True Negative / Total \n",
    "print(\"Accuracy of model {}\".format(accuracy_score(y_test, y_pred)))\n",
    "# Precision is How many result are correctly identified as diabetic that is TP/TP+FP\n",
    "print(\"Precision of model {}\".format(precision_score(y_test, y_pred)))\n",
    "# Recall is how many diabetic predicted out of real diabetic person that is TP/TP+FN\n",
    "print(\"Recall of model {}\".format(recall_score(y_test, y_pred)))"
   ]
  },
  {
   "cell_type": "code",
   "execution_count": 14,
   "id": "96c6002e",
   "metadata": {},
   "outputs": [
    {
     "data": {
      "text/plain": [
       "DecisionTreeClassifier(max_depth=4)"
      ]
     },
     "execution_count": 14,
     "metadata": {},
     "output_type": "execute_result"
    }
   ],
   "source": [
    "# Now lets see how other algorithm do over Logistric regression\n",
    "dtc = DecisionTreeClassifier(max_depth=4)\n",
    "dtc.fit(X_test, y_test)"
   ]
  },
  {
   "cell_type": "code",
   "execution_count": 15,
   "id": "7c341bae",
   "metadata": {},
   "outputs": [
    {
     "name": "stdout",
     "output_type": "stream",
     "text": [
      "Accuracy of model 0.9067796610169492\n",
      "Precision of model 0.7924528301886793\n",
      "Recall of model 1.0\n"
     ]
    }
   ],
   "source": [
    "y_pred = dtc.predict(X_test)\n",
    "# How many of the model's classification are actually correct True Positive + True Negative / Total \n",
    "print(\"Accuracy of model {}\".format(accuracy_score(y_test, y_pred)))\n",
    "# Precision is How many result are correctly identified as diabetic that is TP/TP+FP\n",
    "print(\"Precision of model {}\".format(precision_score(y_test, y_pred)))\n",
    "# Recall is how many diabetic predicted out of real diabetic person that is TP/TP+FN\n",
    "print(\"Recall of model {}\".format(recall_score(y_test, y_pred)))"
   ]
  },
  {
   "cell_type": "code",
   "execution_count": 16,
   "id": "4bf9faab",
   "metadata": {},
   "outputs": [
    {
     "data": {
      "text/plain": [
       "array([[65, 11],\n",
       "       [ 0, 42]], dtype=int64)"
      ]
     },
     "execution_count": 16,
     "metadata": {},
     "output_type": "execute_result"
    }
   ],
   "source": [
    "# Printing confusion metrics to prove above metrics\n",
    "from sklearn.metrics import confusion_matrix\n",
    "confusion_matrix(y_test, y_pred)\n",
    "# Here column is predicted while rows are real data, while first one is false, while second one is true be it row or col\n",
    "# This is how you will read the data\n",
    "#True Negative (Top-Left Quadrant)\n",
    "#False Positive (Top-Right Quadrant)\n",
    "#False Negative (Bottom-Left Quadrant)\n",
    "#True Positive (Bottom-Right Quadrant)"
   ]
  },
  {
   "cell_type": "code",
   "execution_count": null,
   "id": "0ba057d2",
   "metadata": {},
   "outputs": [],
   "source": []
  }
 ],
 "metadata": {
  "kernelspec": {
   "display_name": "Python 3 (ipykernel)",
   "language": "python",
   "name": "python3"
  },
  "language_info": {
   "codemirror_mode": {
    "name": "ipython",
    "version": 3
   },
   "file_extension": ".py",
   "mimetype": "text/x-python",
   "name": "python",
   "nbconvert_exporter": "python",
   "pygments_lexer": "ipython3",
   "version": "3.9.12"
  }
 },
 "nbformat": 4,
 "nbformat_minor": 5
}
