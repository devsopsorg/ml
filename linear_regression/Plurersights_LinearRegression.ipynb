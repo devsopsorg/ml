{
 "cells": [
  {
   "cell_type": "code",
   "execution_count": 91,
   "id": "3a437344",
   "metadata": {},
   "outputs": [],
   "source": [
    "# Libraries use to do data analysis\n",
    "# Pandas to load the data and analyze the data.\n",
    "# Metplot and Seaborn are libraries to visulaize the data\n",
    "import pandas as pd\n",
    "import matplotlib.pyplot as plt\n",
    "import seaborn as sns\n",
    "%matplotlib inline\n",
    "\n",
    "# sklearn is the library having implementation of different machine learning algos and supporting methods. \n",
    "from sklearn.model_selection import train_test_split\n",
    "from sklearn.linear_model import LinearRegression\n",
    "\n",
    "from sklearn.metrics import mean_squared_error\n",
    "from sklearn.metrics import r2_score\n"
   ]
  },
  {
   "cell_type": "code",
   "execution_count": 37,
   "id": "89517158",
   "metadata": {},
   "outputs": [
    {
     "name": "stdout",
     "output_type": "stream",
     "text": [
      "----------------------------\n",
      "      TV  Radio  Newspaper  Sales\n",
      "0  230.1   37.8       69.2   22.1\n",
      "1   44.5   39.3       45.1   10.4\n",
      "2   17.2   45.9       69.3   12.0\n",
      "3  151.5   41.3       58.5   16.5\n",
      "4  180.8   10.8       58.4   17.9\n",
      "----------------------------\n",
      "               TV       Radio   Newspaper       Sales\n",
      "count  200.000000  200.000000  200.000000  200.000000\n",
      "mean   147.042500   23.264000   30.554000   15.130500\n",
      "std     85.854236   14.846809   21.778621    5.283892\n",
      "min      0.700000    0.000000    0.300000    1.600000\n",
      "25%     74.375000    9.975000   12.750000   11.000000\n",
      "50%    149.750000   22.900000   25.750000   16.000000\n",
      "75%    218.825000   36.525000   45.100000   19.050000\n",
      "max    296.400000   49.600000  114.000000   27.000000\n"
     ]
    }
   ],
   "source": [
    "# The very first step is to load the data\n",
    "adverties = pd.read_csv(\"advertising.csv\")\n",
    "print(\"----------------------------\")\n",
    "# Lets see first few rows of the data and identiy columns\n",
    "print(adverties.head())\n",
    "print(\"----------------------------\")\n",
    "# Lets discribe the data, how many, std, min, max, percentiles etc. \n",
    "print(adverties.describe())"
   ]
  },
  {
   "cell_type": "code",
   "execution_count": 60,
   "id": "003b6bc5",
   "metadata": {},
   "outputs": [
    {
     "name": "stdout",
     "output_type": "stream",
     "text": [
      "Median of TV column is 149.75\n",
      "Median of Radio column is 22.9\n",
      "Median of Newspaper column is 25.75\n"
     ]
    },
    {
     "data": {
      "image/png": "[encoded data removed]",
      "text/plain": [
       "<Figure size 432x288 with 1 Axes>"
      ]
     },
     "metadata": {
      "needs_background": "light"
     },
     "output_type": "display_data"
    }
   ],
   "source": [
    "# Lets explore data, how they are distributed using box plot, this will show if data contains outlier or not\n",
    "# Lets draw box plot\n",
    "adverties.boxplot()\n",
    "print(\"Median of TV column is {}\".format(adverties.TV.median()))\n",
    "print(\"Median of Radio column is {}\".format(adverties.Radio.median()))\n",
    "print(\"Median of Newspaper column is {}\".format(adverties.Newspaper.median()))\n",
    "\n",
    "# The box plot shows quartile box with median. The box shows 25-75 percentile,\n",
    "# while the lower and upper line shows 25 and 100 percentile. Any outlier is show with circles.\n",
    "# The below data shows that only Newpaper is having two outliers. We can draw distribution to prove that\n",
    "\n",
    "# Also if you see green line in the mid of the box that means data is not skewed, if you see green line towards bottom means, \n",
    "# data is skewed towards left, opposite is towards right."
   ]
  },
  {
   "cell_type": "code",
   "execution_count": 61,
   "id": "f2f848ea",
   "metadata": {},
   "outputs": [
    {
     "name": "stderr",
     "output_type": "stream",
     "text": [
      "C:\\Users\\samehrot\\Anaconda3\\lib\\site-packages\\seaborn\\distributions.py:2619: FutureWarning: `distplot` is a deprecated function and will be removed in a future version. Please adapt your code to use either `displot` (a figure-level function with similar flexibility) or `histplot` (an axes-level function for histograms).\n",
      "  warnings.warn(msg, FutureWarning)\n"
     ]
    },
    {
     "data": {
      "text/plain": [
       "<AxesSubplot:xlabel='Newspaper', ylabel='Density'>"
      ]
     },
     "execution_count": 61,
     "metadata": {},
     "output_type": "execute_result"
    },
    {
     "data": {
      "image/png": "[encoded data removed]",
      "text/plain": [
       "<Figure size 432x288 with 1 Axes>"
      ]
     },
     "metadata": {
      "needs_background": "light"
     },
     "output_type": "display_data"
    }
   ],
   "source": [
    "sns.distplot(adverties.Newspaper)\n",
    "# The below graph is skewed towards left, above box plot also shows that. "
   ]
  },
  {
   "cell_type": "code",
   "execution_count": 92,
   "id": "ff3f9ce7",
   "metadata": {},
   "outputs": [
    {
     "name": "stdout",
     "output_type": "stream",
     "text": [
      "Shape of TV Data Series (200,)\n",
      "Shape of new TV Data Series (200, 1)\n",
      "LinearRegression()\n",
      "Training Score of lr 0.799626928219267\n",
      "Testing Score of lr 0.814855389208679\n",
      "Testing score by r2_score function 0.814855389208679\n"
     ]
    }
   ],
   "source": [
    "# The values of the data series gives you array of scaller quantites. That means you don't get column, but only rows\n",
    "# See the shape below, no column\n",
    "print(\"Shape of TV Data Series {}\".format(adverties.TV.values.shape))\n",
    "\n",
    "#The below code will not work as, regression object require 2D array, hence we need to reshape it to 2D array\n",
    "#X = adverties.TV.values\n",
    "#y = adverties.Sales.values\n",
    "#X_train, X_test, y_train, y_test = train_test_split(X, y, test_size=0.3, random_state=42)\n",
    "#print(\"Shape of Test Data Series {}\".format(X_train.shape))\n",
    "#lr = LinearRegression()\n",
    "#prediction = lr.fit(X_train, y_train)\n",
    "\n",
    "# Reshaping the data\n",
    "X = adverties.TV.values.reshape(len(adverties.TV.values), 1)\n",
    "print(\"Shape of new TV Data Series {}\".format(X.shape))\n",
    "#Observe passing lenght or passing -1 has same effect\n",
    "y = adverties.Sales.values.reshape(-1, 1)\n",
    "X_train, X_test, y_train, y_test = train_test_split(X, y, test_size=0.3, random_state=42)\n",
    "lr = LinearRegression()\n",
    "print(lr.fit(X_train, y_train))\n",
    "\n",
    "print(\"Training Score of lr {}\".format(lr.score(X_train, y_train)))\n",
    "y_pred = lr.predict(X_test)\n",
    "print(\"Testing Score of lr {}\".format(lr.score(X_test, y_test)))\n",
    "\n",
    "#Another way for R2 score\n",
    "print(\"Testing score by r2_score function {}\".format(r2_score(y_test, y_pred)))\n",
    "# Point to note if score (R2) is near to one for training data but lower for testing data, that means this is a case\n",
    "# case of overfitting"
   ]
  },
  {
   "cell_type": "code",
   "execution_count": 89,
   "id": "556a5c8f",
   "metadata": {},
   "outputs": [
    {
     "name": "stdout",
     "output_type": "stream",
     "text": [
      "Mean Square Error of LR 5.179525402166653 \n"
     ]
    }
   ],
   "source": [
    "print(\"Mean Square Error of LR {} \".format(mean_squared_error(y_test, prediction)))\n",
    "\n",
    "# Mean square error might come as lower in case you have scalled down the data set, hence you need to infer MSE based on that"
   ]
  },
  {
   "cell_type": "code",
   "execution_count": 93,
   "id": "dfa18a85",
   "metadata": {},
   "outputs": [],
   "source": [
    "# lets calculate adjusted R2 score, sklearn doesn't have adjusted r2 score method\n",
    "def adjusted_r2(r2, labels, features):\n",
    "    adj_r2_score = 1 - (((1-r2) * len(labels) - 1)) / (len(labels) - features.shape[1])\n",
    "    return adj_r2_score"
   ]
  },
  {
   "cell_type": "code",
   "execution_count": 95,
   "id": "fc61f4f1",
   "metadata": {},
   "outputs": [
    {
     "name": "stdout",
     "output_type": "stream",
     "text": [
      "Adjusted R2 Score 0.8286664975003515 \n"
     ]
    }
   ],
   "source": [
    "print(\"Adjusted R2 Score {} \".format(adjusted_r2(r2_score(y_test, y_pred), y_test, X_test)))"
   ]
  },
  {
   "cell_type": "code",
   "execution_count": 100,
   "id": "838b7699",
   "metadata": {},
   "outputs": [
    {
     "data": {
      "text/plain": [
       "[<matplotlib.lines.Line2D at 0x2610b81aa30>]"
      ]
     },
     "execution_count": 100,
     "metadata": {},
     "output_type": "execute_result"
    },
    {
     "data": {
      "image/png": "[encoded data removed]",
      "text/plain": [
       "<Figure size 576x576 with 1 Axes>"
      ]
     },
     "metadata": {
      "needs_background": "light"
     },
     "output_type": "display_data"
    }
   ],
   "source": [
    "#Now we will see how regression line is fitting on graph\n",
    "plt.figure(figsize=(8,8))\n",
    "#Scatter plot, plot data points as dot\n",
    "plt.scatter(X_test, y_test, c='black')\n",
    "# Plot draw a line connecting all the points, The line is where prediction came using Liner Regression\n",
    "plt.plot(X_test, y_pred, c='blue', linewidth=2)"
   ]
  },
  {
   "cell_type": "code",
   "execution_count": 107,
   "id": "f0f40b84",
   "metadata": {},
   "outputs": [
    {
     "data": {
      "text/plain": [
       "<AxesSubplot:>"
      ]
     },
     "execution_count": 107,
     "metadata": {},
     "output_type": "execute_result"
    },
    {
     "data": {
      "image/png": "[encoded data removed]",
      "text/plain": [
       "<Figure size 432x288 with 2 Axes>"
      ]
     },
     "metadata": {
      "needs_background": "light"
     },
     "output_type": "display_data"
    }
   ],
   "source": [
    "# You can see correlation between features. In the data provided Sales is + and maximum corrlerated with TV ads\n",
    "sns.heatmap(adverties.corr(), cmap=\"YlGnBu\")"
   ]
  },
  {
   "cell_type": "code",
   "execution_count": null,
   "id": "8a1a9fdc",
   "metadata": {},
   "outputs": [],
   "source": []
  }
 ],
 "metadata": {
  "kernelspec": {
   "display_name": "Python 3 (ipykernel)",
   "language": "python",
   "name": "python3"
  },
  "language_info": {
   "codemirror_mode": {
    "name": "ipython",
    "version": 3
   },
   "file_extension": ".py",
   "mimetype": "text/x-python",
   "name": "python",
   "nbconvert_exporter": "python",
   "pygments_lexer": "ipython3",
   "version": "3.9.12"
  }
 },
 "nbformat": 4,
 "nbformat_minor": 5
}
