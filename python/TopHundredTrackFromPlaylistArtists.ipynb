{
 "cells": [
  {
   "cell_type": "markdown",
   "id": "742fcf2f",
   "metadata": {},
   "source": [
    "# This program fetch artists from a playlist. Then fetch top 10 tracks of each artist and sort them based on popularity. Pick top 100 tracks and add them to another play list. \n",
    "\n",
    "## So you get 100 most popular songs"
   ]
  },
  {
   "cell_type": "code",
   "execution_count": 1,
   "id": "cb9672c5",
   "metadata": {},
   "outputs": [
    {
     "name": "stdout",
     "output_type": "stream",
     "text": [
      "Requirement already satisfied: spotipy in c:\\users\\samehrot\\anaconda3\\lib\\site-packages (2.22.1)\n",
      "Requirement already satisfied: requests>=2.25.0 in c:\\users\\samehrot\\anaconda3\\lib\\site-packages (from spotipy) (2.27.1)\n",
      "Requirement already satisfied: urllib3>=1.26.0 in c:\\users\\samehrot\\anaconda3\\lib\\site-packages (from spotipy) (1.26.9)\n",
      "Requirement already satisfied: six>=1.15.0 in c:\\users\\samehrot\\anaconda3\\lib\\site-packages (from spotipy) (1.16.0)\n",
      "Requirement already satisfied: redis>=3.5.3 in c:\\users\\samehrot\\anaconda3\\lib\\site-packages (from spotipy) (4.5.1)\n",
      "Requirement already satisfied: async-timeout>=4.0.2 in c:\\users\\samehrot\\anaconda3\\lib\\site-packages (from redis>=3.5.3->spotipy) (4.0.2)\n",
      "Requirement already satisfied: certifi>=2017.4.17 in c:\\users\\samehrot\\anaconda3\\lib\\site-packages (from requests>=2.25.0->spotipy) (2021.10.8)\n",
      "Requirement already satisfied: charset-normalizer~=2.0.0 in c:\\users\\samehrot\\anaconda3\\lib\\site-packages (from requests>=2.25.0->spotipy) (2.0.4)\n",
      "Requirement already satisfied: idna<4,>=2.5 in c:\\users\\samehrot\\anaconda3\\lib\\site-packages (from requests>=2.25.0->spotipy) (3.3)\n"
     ]
    },
    {
     "name": "stderr",
     "output_type": "stream",
     "text": [
      "\n",
      "[notice] A new release of pip is available: 23.0.1 -> 23.1\n",
      "[notice] To update, run: python.exe -m pip install --upgrade pip\n"
     ]
    }
   ],
   "source": [
    "#Install spotify SDK if not installed\n",
    "!pip install spotipy"
   ]
  },
  {
   "cell_type": "code",
   "execution_count": 27,
   "id": "75c32b88",
   "metadata": {},
   "outputs": [],
   "source": [
    "# Import required libraries\n",
    "import spotipy\n",
    "import spotipy.util as util\n",
    "from spotipy.oauth2 import SpotifyClientCredentials #Required for authenticating with soptify\n",
    "import pandas as pd  #Will use Panda to do data analysis"
   ]
  },
  {
   "cell_type": "code",
   "execution_count": 28,
   "id": "aefc1919",
   "metadata": {},
   "outputs": [],
   "source": [
    "# Defining some constants \n",
    "client_id = \"XXXXXX\"\n",
    "client_password = \"XXXXXX\"\n",
    "user_name = \"XXXXXX\"\n",
    "from_playlist_id = \"XXXXXX\"\n",
    "top_tracks_playlist_id = \"XXXXXX\"\n"
   ]
  },
  {
   "cell_type": "code",
   "execution_count": 32,
   "id": "11500788",
   "metadata": {},
   "outputs": [
    {
     "name": "stdout",
     "output_type": "stream",
     "text": [
      "True\n"
     ]
    }
   ],
   "source": [
    "token = util.prompt_for_user_token(username=user_name, scope = \"playlist-modify-public\",\n",
    "                                   client_id=client_id,\n",
    "                                   client_secret=client_password,\n",
    "                                   redirect_uri=\"http://localhost:8080/\" )\n",
    "#Add your credentials to authenticate yourself with Spotify\n",
    "sp = spotipy.Spotify(auth = token)\n"
   ]
  },
  {
   "cell_type": "code",
   "execution_count": 35,
   "id": "517345be",
   "metadata": {},
   "outputs": [],
   "source": [
    "def get_artists(playlist_id, spotify):   \n",
    "    if type(spotify) is spotipy.client.Spotify:\n",
    "        # Fetch Playlist\n",
    "        playlist_data = spotify.playlist(playlist_id=playlist_id)\n",
    "        print(\"Playlist: {}, Owner: {}\".format(\n",
    "            playlist_data['name'],\n",
    "            playlist_data['owner']['display_name']))\n",
    "        # Create a unique list of Artists so that it can be used to fetch their popular Track\n",
    "        # As we may get duplicate Artists from different track hence we need to use SET data structure\n",
    "        artists_id = set()\n",
    "        artists_name = set()\n",
    "        for item in playlist_data['tracks']['items']:\n",
    "            for artist in item['track']['album']['artists']:\n",
    "                artists_name.add(artist['name'])\n",
    "                artists_id.add(artist['id'])\n",
    "        return (artists_id, artists_name)\n",
    "    else:\n",
    "        print(\"Spotify Object is invalid\")\n",
    "\n",
    "def get_popular_track(artists_id, spotify):\n",
    "    if type(spotify) is spotipy.client.Spotify:\n",
    "        # Create Disctionary of top 10 popular tracks of the artists\n",
    "        popular_tracks = []\n",
    "        for artist in artists_id:\n",
    "            top_tracks = spotify.artist_top_tracks(artist_id=artist)\n",
    "            for track in top_tracks['tracks']:\n",
    "                uri = track['uri']\n",
    "                popularity = track['popularity']\n",
    "                name = track['name']\n",
    "                track_element = {\"uri\": uri, \"name\": name, \"popularity\": popularity, \"artist\": artist}\n",
    "                popular_tracks.append(track_element)\n",
    "        return popular_tracks\n",
    "    else:\n",
    "        print(\"Spotify Object is invalid\")\n",
    "                  "
   ]
  },
  {
   "cell_type": "code",
   "execution_count": 38,
   "id": "7429831c",
   "metadata": {},
   "outputs": [
    {
     "name": "stdout",
     "output_type": "stream",
     "text": [
      "Playlist: Starring Emraan Hashmi, Owner: Spotify\n",
      "Following artists fetched \n",
      " {'Various Artists', 'Arijit Singh', 'Himesh Reshammiya', 'Mithoon', 'Rashid Khan', 'Abhijeet', 'Anu Malik', 'Tanishk Bagchi', 'Sangeet', 'Harshit Saxena', 'Ami Mishra', 'Kunaal-Rangon', 'Vishal Bhardwaj', 'Yuvan Shankar Raja', 'Pritam', 'Siddharth Haldipur', 'Vishal-Shekhar', 'Ankit Tiwari', 'Jeet Gannguli', 'Jubin Nautiyal', 'Sangeet & Siddharth'}\n"
     ]
    }
   ],
   "source": [
    "artist_id, artist_name = get_artists(playlist_id=from_playlist_id, spotify=sp)\n",
    "print(\"Following artists fetched \\n {}\".format(artist_name))\n",
    "\n",
    "popular_tracks = get_popular_track(artist_id, spotify=sp)\n",
    "\n",
    "#Create Data Frame so that we can manupilate data\n",
    "df_popular_tracks = pd.DataFrame.from_dict(popular_tracks)\n",
    "print(df_popular_tracks.head(10))\n",
    "# Sort based on popularity and fetch first 100 tracks\n",
    "top_100 = df_popular_tracks.sort_values(by=\"popularity\", ascending=False).iloc[:100]\n",
    "# Add the tracks to playlist supplied\n",
    "sp.playlist_add_items(playlist_id=top_tracks_playlist_id, items = list(top_100['uri']))\n"
   ]
  },
  {
   "cell_type": "code",
   "execution_count": null,
   "id": "9f1f262b",
   "metadata": {},
   "outputs": [],
   "source": []
  }
 ],
 "metadata": {
  "kernelspec": {
   "display_name": "Python 3 (ipykernel)",
   "language": "python",
   "name": "python3"
  },
  "language_info": {
   "codemirror_mode": {
    "name": "ipython",
    "version": 3
   },
   "file_extension": ".py",
   "mimetype": "text/x-python",
   "name": "python",
   "nbconvert_exporter": "python",
   "pygments_lexer": "ipython3",
   "version": "3.9.12"
  }
 },
 "nbformat": 4,
 "nbformat_minor": 5
}
